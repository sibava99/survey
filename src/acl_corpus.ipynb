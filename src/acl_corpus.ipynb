{
 "cells": [
  {
   "cell_type": "code",
   "execution_count": 1,
   "metadata": {},
   "outputs": [],
   "source": [
    "import json\n",
    "import xml.etree.ElementTree as ET\n",
    "import os\n",
    "import glob\n",
    "import itertools\n",
    "from time import sleep\n",
    "from pprint import pprint\n",
    "from tqdm import tqdm\n",
    "import pandas as pd"
   ]
  },
  {
   "cell_type": "code",
   "execution_count": 2,
   "metadata": {},
   "outputs": [],
   "source": [
    "import requests\n",
    "SLEEP_SECONDS = 0.011\n",
    "offset = 0\n",
    "limit = 1000\n",
    "headers = {\"x-api-key\": \"5NNyAuuUBm4VAUZiEQOL85IeBVtNf9p3tpEPleoe\"}"
   ]
  },
  {
   "cell_type": "code",
   "execution_count": 3,
   "metadata": {},
   "outputs": [],
   "source": [
    "import re\n",
    "code_regex = re.compile('[!\"#$%&\\'\\\\\\\\()*+,-./:;<=>?@[\\\\]^_`{|}~「」〔〕“”〈〉『』【】＆＊・（）＄＃＠。、？！｀＋￥％]')\n",
    "def cleaning(l:list):\n",
    "    if (len(l) == 0):\n",
    "        return set()\n",
    "    else:\n",
    "        l = [code_regex.sub('',x) for x in l]\n",
    "        l = [x.lower() for x in l]\n",
    "        return set(l)\n"
   ]
  },
  {
   "cell_type": "code",
   "execution_count": 4,
   "metadata": {},
   "outputs": [],
   "source": [
    "paths = glob.glob(\"/home/sibava/survey/dataset/grobid_full_text/*\")"
   ]
  },
  {
   "cell_type": "code",
   "execution_count": 4,
   "metadata": {},
   "outputs": [],
   "source": [
    "xml_errs = (\"[BAD_INPUT_DATA]\",\"[NO_BLOCKS]\",\"[TOO_MANY_TOKENS]\",\"[TIMEOUT]\",\"[GENERAL]\")\n",
    "ns = {\"ns\":\"http://www.tei-c.org/ns/1.0\"}"
   ]
  },
  {
   "cell_type": "code",
   "execution_count": 4,
   "metadata": {},
   "outputs": [],
   "source": [
    "aan_df = pd.read_json(\"/home/sibava/moonshot/selected_survey.jsonl\",lines=True)"
   ]
  },
  {
   "cell_type": "code",
   "execution_count": 5,
   "metadata": {},
   "outputs": [],
   "source": [
    "aan_df = aan_df.query(\"year > 2014\")\n",
    "aan_titles = cleaning(aan_df['title'])"
   ]
  },
  {
   "cell_type": "code",
   "execution_count": null,
   "metadata": {},
   "outputs": [],
   "source": [
    "survey_paths = []\n",
    "for path in tqdm(paths):\n",
    "    with open(path) as f:\n",
    "        if(f.read().startswith(xml_errs)):\n",
    "            # print(\"err\")\n",
    "            continue\n",
    "    tree = ET.parse(path)\n",
    "    root = tree.find(\"{http://www.tei-c.org/ns/1.0}teiHeader\")\n",
    "    for c in root.iter(\"{http://www.tei-c.org/ns/1.0}title\"):\n",
    "        if c.text is  not None and \"survey\" in c.text.lower() and code_regex.sub('',c.text).lower() in aan_titles:\n",
    "            survey_paths.append(path)\n",
    "            print(path)"
   ]
  },
  {
   "cell_type": "code",
   "execution_count": 90,
   "metadata": {},
   "outputs": [],
   "source": [
    "pd.DataFrame(list(set(survey_paths)),columns=[\"path\"]).to_csv(\"/home/sibava/survey/dataset/survey_path.csv\",index=False)"
   ]
  },
  {
   "cell_type": "code",
   "execution_count": 6,
   "metadata": {},
   "outputs": [],
   "source": [
    "surveys_paths = pd.read_csv(\"/home/sibava/survey/dataset/survey_path.csv\")[\"path\"].to_list()"
   ]
  },
  {
   "cell_type": "code",
   "execution_count": 7,
   "metadata": {},
   "outputs": [],
   "source": [
    "c = 0\n",
    "title_ref = {}\n",
    "for path in surveys_paths:\n",
    "    tree = ET.parse(path)\n",
    "    root = tree.getroot()\n",
    "    title = root.find(\"ns:teiHeader/ns:fileDesc/ns:titleStmt/ns:title\",ns).text\n",
    "    refs = []\n",
    "    for bib in root.iter(\"{http://www.tei-c.org/ns/1.0}biblStruct\"):\n",
    "        for t in bib.findall(\"ns:analytic/ns:title\",ns):\n",
    "            if t.text is not None:\n",
    "                refs.append(t.text)\n",
    "    title_ref[title] = refs\n",
    "    # print(len(refs))"
   ]
  },
  {
   "cell_type": "code",
   "execution_count": 8,
   "metadata": {},
   "outputs": [],
   "source": [
    "aan_df['ref_titles'] = aan_df['references'].map(lambda l:[x[\"title\"] for x in l])"
   ]
  },
  {
   "cell_type": "code",
   "execution_count": 16,
   "metadata": {},
   "outputs": [],
   "source": [
    "title_ref_id = []\n",
    "for index,row in aan_df.iterrows():\n",
    "    survey_title = row[\"title\"]\n",
    "    paper_id = row[\"paperId\"]\n",
    "    aan_ref = row['ref_titles']\n",
    "    if(survey_title in title_ref):\n",
    "        aac_ref = title_ref[survey_title]\n",
    "    else:\n",
    "        aac_ref = []\n",
    "    refs = cleaning(aan_ref)| cleaning(aac_ref)\n",
    "    title_ref_id.append({\"title\":survey_title,\"paperId\":paper_id,\"refs\":refs})"
   ]
  },
  {
   "cell_type": "code",
   "execution_count": 21,
   "metadata": {},
   "outputs": [],
   "source": [
    "df = pd.DataFrame(title_ref_id)"
   ]
  },
  {
   "cell_type": "code",
   "execution_count": 75,
   "metadata": {},
   "outputs": [
    {
     "name": "stderr",
     "output_type": "stream",
     "text": [
      "75it [1:33:03, 74.45s/it] \n"
     ]
    }
   ],
   "source": [
    "refs_ids =[]\n",
    "for index,row in tqdm(df.iterrows()):\n",
    "    refs = row['refs']\n",
    "    ref_ids = []\n",
    "    for ref in refs:\n",
    "        responce = requests.get(\n",
    "            f\"http://api.semanticscholar.org/graph/v1/paper/search?query={ref}&offset={offset}&limit={limit}&fields=title,venue,fieldsOfStudy\",\n",
    "            headers=headers\n",
    "        )\n",
    "        txt = responce.text\n",
    "        d = json.loads(txt)\n",
    "        for r in d['data']:\n",
    "            if code_regex.sub('',r['title']).lower() == ref:\n",
    "                ref_ids.append(r['paperId'])\n",
    "    refs_ids.append(ref_ids)\n",
    "# df['refs_ids'] = refs_ids"
   ]
  },
  {
   "cell_type": "code",
   "execution_count": 77,
   "metadata": {},
   "outputs": [],
   "source": [
    "df['refs_ids'] = refs_ids"
   ]
  },
  {
   "cell_type": "code",
   "execution_count": 85,
   "metadata": {},
   "outputs": [
    {
     "data": {
      "text/plain": [
       "0      58\n",
       "1      45\n",
       "2     197\n",
       "3      59\n",
       "4      65\n",
       "     ... \n",
       "70      7\n",
       "71      4\n",
       "72     22\n",
       "73     23\n",
       "74     36\n",
       "Name: refs_ids, Length: 75, dtype: int64"
      ]
     },
     "execution_count": 85,
     "metadata": {},
     "output_type": "execute_result"
    }
   ],
   "source": [
    "df['refs_ids'].map(lambda x:len(x))"
   ]
  },
  {
   "cell_type": "code",
   "execution_count": 88,
   "metadata": {},
   "outputs": [],
   "source": [
    "df.to_json(\"/home/sibava/survey/dataset/survey_ref.jsonl\",orient=\"records\",lines=True)"
   ]
  },
  {
   "cell_type": "code",
   "execution_count": 5,
   "metadata": {},
   "outputs": [],
   "source": [
    "df = pd.read_json(\"/home/sibava/survey/dataset/survey_ref.jsonl\",orient=\"records\",lines=True)"
   ]
  },
  {
   "cell_type": "code",
   "execution_count": 11,
   "metadata": {},
   "outputs": [
    {
     "data": {
      "text/plain": [
       "91.22666666666667"
      ]
     },
     "execution_count": 11,
     "metadata": {},
     "output_type": "execute_result"
    }
   ],
   "source": [
    "df['refs'].map(lambda x:len(x)).mean()"
   ]
  },
  {
   "cell_type": "code",
   "execution_count": 6,
   "metadata": {},
   "outputs": [],
   "source": [
    "new_df = df[df['refs_ids'].map(lambda x:len(x) >10 )]"
   ]
  },
  {
   "cell_type": "code",
   "execution_count": 7,
   "metadata": {},
   "outputs": [
    {
     "data": {
      "text/plain": [
       "Index(['title', 'paperId', 'refs', 'refs_ids'], dtype='object')"
      ]
     },
     "execution_count": 7,
     "metadata": {},
     "output_type": "execute_result"
    }
   ],
   "source": [
    "new_df.columns"
   ]
  },
  {
   "cell_type": "code",
   "execution_count": 22,
   "metadata": {},
   "outputs": [
    {
     "name": "stderr",
     "output_type": "stream",
     "text": [
      "70it [00:30,  2.33it/s]\n"
     ]
    }
   ],
   "source": [
    "embeddings = []\n",
    "referenceCounts = []\n",
    "years = []\n",
    "\n",
    "for index,row in tqdm(new_df.iterrows()):\n",
    "    responce = requests.get(\n",
    "        f\"http://api.semanticscholar.org/graph/v1/paper/{row['paperId']}?fields=title,year,referenceCount,embedding\",\n",
    "        headers=headers,\n",
    "    )\n",
    "    txt = responce.text\n",
    "    d = json.loads(txt)\n",
    "    embeddings.append(d['embedding'])\n",
    "    years.append(d['year'])\n",
    "    referenceCounts.append(d['referenceCount'])\n"
   ]
  },
  {
   "cell_type": "code",
   "execution_count": 23,
   "metadata": {},
   "outputs": [
    {
     "name": "stderr",
     "output_type": "stream",
     "text": [
      "/tmp/ipykernel_1662659/924296600.py:1: SettingWithCopyWarning: \n",
      "A value is trying to be set on a copy of a slice from a DataFrame.\n",
      "Try using .loc[row_indexer,col_indexer] = value instead\n",
      "\n",
      "See the caveats in the documentation: https://pandas.pydata.org/pandas-docs/stable/user_guide/indexing.html#returning-a-view-versus-a-copy\n",
      "  new_df['embedding'] = embeddings\n",
      "/tmp/ipykernel_1662659/924296600.py:2: SettingWithCopyWarning: \n",
      "A value is trying to be set on a copy of a slice from a DataFrame.\n",
      "Try using .loc[row_indexer,col_indexer] = value instead\n",
      "\n",
      "See the caveats in the documentation: https://pandas.pydata.org/pandas-docs/stable/user_guide/indexing.html#returning-a-view-versus-a-copy\n",
      "  new_df['year'] = years\n",
      "/tmp/ipykernel_1662659/924296600.py:3: SettingWithCopyWarning: \n",
      "A value is trying to be set on a copy of a slice from a DataFrame.\n",
      "Try using .loc[row_indexer,col_indexer] = value instead\n",
      "\n",
      "See the caveats in the documentation: https://pandas.pydata.org/pandas-docs/stable/user_guide/indexing.html#returning-a-view-versus-a-copy\n",
      "  new_df['referenceCount'] = referenceCounts\n"
     ]
    }
   ],
   "source": [
    "new_df['embedding'] = embeddings\n",
    "new_df['year'] = years\n",
    "new_df['referenceCount'] = referenceCounts"
   ]
  },
  {
   "cell_type": "code",
   "execution_count": 30,
   "metadata": {},
   "outputs": [],
   "source": [
    "new_df = new_df.drop('citationCount',axis=1)"
   ]
  },
  {
   "cell_type": "code",
   "execution_count": 33,
   "metadata": {},
   "outputs": [],
   "source": [
    "new_df.to_json(\"/home/sibava/survey/dataset/training.jsonl\",orient=\"records\",lines=True)"
   ]
  },
  {
   "cell_type": "code",
   "execution_count": 13,
   "metadata": {},
   "outputs": [
    {
     "name": "stderr",
     "output_type": "stream",
     "text": [
      "100%|██████████| 4185/4185 [40:45<00:00,  1.71it/s]  \n"
     ]
    }
   ],
   "source": [
    "reference_ids = list(set(itertools.chain.from_iterable(new_df['refs_ids'])))\n",
    "references = []\n",
    "\n",
    "for ref_id in tqdm(reference_ids):\n",
    "    responce = requests.get(\n",
    "        f\"http://api.semanticscholar.org/graph/v1/paper/{ref_id}?offset={offset}&limit={limit}&fields=title,embedding\",\n",
    "        headers=headers,\n",
    "        )\n",
    "    txt = responce.text\n",
    "    d = json.loads(txt)\n",
    "    references.append(d)\n",
    "    sleep(SLEEP_SECONDS)"
   ]
  },
  {
   "cell_type": "code",
   "execution_count": 15,
   "metadata": {},
   "outputs": [],
   "source": [
    "ref_df = pd.DataFrame(references)"
   ]
  },
  {
   "cell_type": "code",
   "execution_count": 19,
   "metadata": {},
   "outputs": [],
   "source": [
    "ref_df.to_json(\"/home/sibava/survey/dataset/references.jsonl\",orient=\"records\",lines=True)"
   ]
  }
 ],
 "metadata": {
  "kernelspec": {
   "display_name": "survey",
   "language": "python",
   "name": "python3"
  },
  "language_info": {
   "codemirror_mode": {
    "name": "ipython",
    "version": 3
   },
   "file_extension": ".py",
   "mimetype": "text/x-python",
   "name": "python",
   "nbconvert_exporter": "python",
   "pygments_lexer": "ipython3",
   "version": "3.9.16"
  },
  "orig_nbformat": 4,
  "vscode": {
   "interpreter": {
    "hash": "eedb2b5f16aa0979bc3a2d1666386f9ff60202ba66b11b56983b83d4f92358ac"
   }
  }
 },
 "nbformat": 4,
 "nbformat_minor": 2
}
